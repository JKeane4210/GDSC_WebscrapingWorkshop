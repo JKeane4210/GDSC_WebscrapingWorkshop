{
 "cells": [
  {
   "cell_type": "code",
   "execution_count": 1,
   "id": "a3a32ff9",
   "metadata": {},
   "outputs": [],
   "source": [
    "import urllib3\n",
    "from bs4 import BeautifulSoup"
   ]
  },
  {
   "cell_type": "code",
   "execution_count": 2,
   "id": "5ba5b3b8",
   "metadata": {},
   "outputs": [
    {
     "name": "stdout",
     "output_type": "stream",
     "text": [
      "My html page\n"
     ]
    }
   ],
   "source": [
    "http = urllib3.PoolManager()\n",
    "url = 'http://webcode.me'\n",
    "resp = http.request('GET', url)\n",
    "soup = BeautifulSoup(resp.data.decode('utf-8'), \"html.parser\")\n",
    "\n",
    "print(soup.head.title.text)"
   ]
  },
  {
   "cell_type": "code",
   "execution_count": 3,
   "id": "9895daff",
   "metadata": {},
   "outputs": [],
   "source": [
    "import urllib.request"
   ]
  },
  {
   "cell_type": "code",
   "execution_count": 4,
   "id": "5c28480e",
   "metadata": {},
   "outputs": [
    {
     "name": "stdout",
     "output_type": "stream",
     "text": [
      "<!DOCTYPE html>\n",
      "<html lang=\"en\">\n",
      "<head>\n",
      "    <meta charset=\"UTF-8\">\n",
      "    <meta name=\"viewport\" content=\"width=device-width, initial-scale=1.0\">\n",
      "    <title>My html page</title>\n",
      "</head>\n",
      "<body>\n",
      "\n",
      "    <p>\n",
      "        Today is a beautiful day. We go swimming and fishing.\n",
      "    </p>\n",
      "    \n",
      "    <p>\n",
      "         Hello there. How are you?\n",
      "    </p>\n",
      "    \n",
      "</body>\n",
      "</html>\n",
      "\n",
      "\n"
     ]
    }
   ],
   "source": [
    "url2 = 'https://www.carmax.com/cars/all'\n",
    "fp = urllib.request.urlopen(url)\n",
    "mybytes = fp.read()\n",
    "\n",
    "mystr = mybytes.decode(\"utf8\")\n",
    "fp.close()\n",
    "\n",
    "print(mystr)"
   ]
  },
  {
   "cell_type": "code",
   "execution_count": null,
   "id": "43581fae",
   "metadata": {},
   "outputs": [],
   "source": [
    "from selenium import webdriver\n",
    "import time\n",
    "\n",
    "# start web browser\n",
    "browser = webdriver.Chrome(ChromeDriverManager().install())\n",
    "\n",
    "# get source code\n",
    "browser.get(\"https://en.wikipedia.org\")\n",
    "html = browser.page_source"
   ]
  }
 ],
 "metadata": {
  "kernelspec": {
   "display_name": "Python 3",
   "language": "python",
   "name": "python3"
  },
  "language_info": {
   "codemirror_mode": {
    "name": "ipython",
    "version": 3
   },
   "file_extension": ".py",
   "mimetype": "text/x-python",
   "name": "python",
   "nbconvert_exporter": "python",
   "pygments_lexer": "ipython3",
   "version": "3.8.8"
  }
 },
 "nbformat": 4,
 "nbformat_minor": 5
}
