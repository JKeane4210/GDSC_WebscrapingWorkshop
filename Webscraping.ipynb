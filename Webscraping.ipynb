{
 "cells": [
  {
   "cell_type": "markdown",
   "id": "94b3e9d1",
   "metadata": {},
   "source": [
    "# Webscraping\n",
    "\n",
    "***Scraping the Internet Programmatically***\n",
    "\n",
    "# Getting Started\n",
    "\n",
    "The libraries needed for reading in HTML from sites:\n",
    "\n",
    "- **requests:** Make GET requests to the internet to go out and get the HTML for a site\n",
    "\n",
    "- **bs4:** Parse through a set of HTML"
   ]
  },
  {
   "cell_type": "code",
   "execution_count": 1,
   "id": "4a3c85f8",
   "metadata": {},
   "outputs": [],
   "source": [
    "import requests\n",
    "from bs4 import BeautifulSoup"
   ]
  },
  {
   "cell_type": "markdown",
   "id": "347898ca",
   "metadata": {},
   "source": [
    "## Loading In a Webpage\n",
    "\n",
    "While the get function has several extra parameters, the main two are the url and params.\n",
    "\n",
    "`requests.get(url, params=None)`\n",
    "\n",
    "- **url:** The link to retrieve the HTML from\n",
    "\n",
    "- **params:** A dictionary of parameters to add as a *query string* on top of the link. If it's None, nothing is added to the url\n",
    "\n",
    "    - *query string:* Extra piece of the link to specify further what you want from site (addition looks like **\"?key1=value1&key2=value2\"**)\n",
    "\n",
    "You can then see the HTML from the response by getting **.text** from the request object."
   ]
  },
  {
   "cell_type": "code",
   "execution_count": 2,
   "id": "9996856e",
   "metadata": {},
   "outputs": [
    {
     "ename": "NameError",
     "evalue": "name 'url' is not defined",
     "output_type": "error",
     "traceback": [
      "\u001b[1;31m---------------------------------------------------------------------------\u001b[0m",
      "\u001b[1;31mNameError\u001b[0m                                 Traceback (most recent call last)",
      "\u001b[1;32m<ipython-input-2-7aa2b7eddd4c>\u001b[0m in \u001b[0;36m<module>\u001b[1;34m\u001b[0m\n\u001b[1;32m----> 1\u001b[1;33m \u001b[0mmy_request\u001b[0m \u001b[1;33m=\u001b[0m \u001b[0mrequests\u001b[0m\u001b[1;33m.\u001b[0m\u001b[0mget\u001b[0m\u001b[1;33m(\u001b[0m\u001b[0murl\u001b[0m\u001b[1;33m)\u001b[0m\u001b[1;33m\u001b[0m\u001b[1;33m\u001b[0m\u001b[0m\n\u001b[0m\u001b[0;32m      2\u001b[0m \u001b[0mprint\u001b[0m\u001b[1;33m(\u001b[0m\u001b[0mmy_request\u001b[0m\u001b[1;33m.\u001b[0m\u001b[0mtext\u001b[0m\u001b[1;33m)\u001b[0m\u001b[1;33m\u001b[0m\u001b[1;33m\u001b[0m\u001b[0m\n",
      "\u001b[1;31mNameError\u001b[0m: name 'url' is not defined"
     ]
    }
   ],
   "source": [
    "url = \"http://webcode.me\"\n",
    "my_request = requests.get(url)\n",
    "print(my_request.text)"
   ]
  },
  {
   "cell_type": "markdown",
   "id": "b6319bdb",
   "metadata": {},
   "source": [
    "## Getting Your Soup\n",
    "\n",
    "The bs4 library takes this long HTML string and turns it into a BeautifulSoup object that has several functions that make navigating the HTML to the data you want easier."
   ]
  },
  {
   "cell_type": "code",
   "execution_count": null,
   "id": "5f41f5ba",
   "metadata": {},
   "outputs": [],
   "source": [
    "soup = BeautifulSoup(my_request.text, 'html.parser')\n",
    "print(soup)"
   ]
  },
  {
   "cell_type": "markdown",
   "id": "c0e5a480",
   "metadata": {},
   "source": [
    "# Basic Navigation\n",
    "\n",
    "Your *soup* object is associated with all the HTML, but if you know the outermost tag that you want to navigate to. Let's try to get the *title* tag for this HTML page."
   ]
  },
  {
   "cell_type": "code",
   "execution_count": null,
   "id": "891afdb2",
   "metadata": {},
   "outputs": [],
   "source": [
    "title = soup.title\n",
    "print(title)"
   ]
  },
  {
   "cell_type": "markdown",
   "id": "e16ab300",
   "metadata": {},
   "source": [
    "Nice! If you want to get the text that is contained within a singular element, you can access this by getting the **.text** of a BeautifulSoup object that you have."
   ]
  },
  {
   "cell_type": "code",
   "execution_count": null,
   "id": "f1a355cd",
   "metadata": {},
   "outputs": [],
   "source": [
    "print(title.text)"
   ]
  },
  {
   "cell_type": "markdown",
   "id": "65315f65",
   "metadata": {},
   "source": [
    "## Your Turn\n",
    "\n",
    "How can we get the text from the first p tag that we see in the HTML?"
   ]
  },
  {
   "cell_type": "code",
   "execution_count": null,
   "id": "ceb3a2ac",
   "metadata": {},
   "outputs": [],
   "source": []
  },
  {
   "cell_type": "markdown",
   "id": "73bdcb76",
   "metadata": {},
   "source": [
    "# Searching by Tags\n",
    "\n",
    "While the method of getting each element is effective, with big webpages, there would be a ton of steps you would have to take to get to the information you want. Luckily, the bs4 library has some methods that let us get to the tags we want faster:\n",
    "\n",
    "`BeautifulSoup.find_all(name, attrs, recursive, string, limit)`\n",
    "\n",
    "This method gets all the tags that fit the arguments you give it:\n",
    "\n",
    "- **name:** The tag type (things like *div, p, button*)\n",
    "\n",
    "- **attrs:** Tags often come with inner information (attributes). We can use this as a way of filtering our search. We pass a dictionary of {attribute_name: attribute_value} to attrs to filter our search\n",
    "\n",
    "    - example of attributes: `<div **class=\"my-special-div\"**>'\n",
    "    \n",
    "- **recursive:** This parameter is by default true. If true, the function searches in you current BeautifulSoup object as well as any nested tags within\n",
    "\n",
    "- **limit:** If there's a maximum number of elements that you want, you can specify this with the limit parameter\n",
    "\n",
    "- **string:** Filters tag search to those that have a given string as a the text inside.\n",
    "\n",
    "`BeautifulSoup.find(name, attrs, recursive, string)`\n",
    "\n",
    "This method does basically the same as *find_all*, but just returns *None* if no tag is found.\n",
    "\n",
    "Let's try and get information from the premier league soccer standings."
   ]
  },
  {
   "cell_type": "code",
   "execution_count": null,
   "id": "0eb53418",
   "metadata": {},
   "outputs": [],
   "source": [
    "premier_league_html_string = requests.get(\"https://www.premierleague.com/tables\").text\n",
    "soup2 = BeautifulSoup(premier_league_html_string, \"html.parser\")\n",
    "print(\"This HTML has \" + str(len(premier_league_html_string)) + \" characters!\")"
   ]
  },
  {
   "cell_type": "markdown",
   "id": "3d745ede",
   "metadata": {},
   "source": [
    "That's a lot of HTML to navigate. Let's try using find_all to get the tags that have the names of the teams instead:"
   ]
  },
  {
   "cell_type": "code",
   "execution_count": null,
   "id": "4592fe2c",
   "metadata": {},
   "outputs": [],
   "source": [
    "all_teams = soup2.find_all(\"td\", {\"class\": \"team\"})\n",
    "first_place = all_teams[0]\n",
    "print(first_place)"
   ]
  },
  {
   "cell_type": "markdown",
   "id": "fedcef8e",
   "metadata": {},
   "source": [
    "That's pretty close! From here we can probably get the name of the team from this:"
   ]
  },
  {
   "cell_type": "code",
   "execution_count": null,
   "id": "9b042a2d",
   "metadata": {},
   "outputs": [],
   "source": [
    "first_place_name = first_place.find(\"span\", {\"class\": \"long\"})\n",
    "print(first_place_name)\n",
    "print(first_place_name.text)"
   ]
  },
  {
   "cell_type": "markdown",
   "id": "fe1b138e",
   "metadata": {},
   "source": [
    "## Your Turn\n",
    "\n",
    "Write a little code to go through all teams and print out the standings:"
   ]
  },
  {
   "cell_type": "code",
   "execution_count": null,
   "id": "72ab4894",
   "metadata": {},
   "outputs": [],
   "source": []
  },
  {
   "cell_type": "markdown",
   "id": "377bbf0f",
   "metadata": {},
   "source": [
    "# Conclusion\n",
    "\n",
    "And that's it! You now know the basic of scraping websites and you can apply this mentality of following the tags to any website to pull information out of it programmatically. Enjoy scraping!\n",
    "\n",
    "For more information on the bs4 libray: https://beautiful-soup-4.readthedocs.io/en/latest/#id12\n",
    "\n",
    "---\n",
    "\n",
    "This notebook was created by Jonathan Keane for MSOE's GDSC webscraping workshop."
   ]
  }
 ],
 "metadata": {
  "kernelspec": {
   "display_name": "Python 3",
   "language": "python",
   "name": "python3"
  },
  "language_info": {
   "codemirror_mode": {
    "name": "ipython",
    "version": 3
   },
   "file_extension": ".py",
   "mimetype": "text/x-python",
   "name": "python",
   "nbconvert_exporter": "python",
   "pygments_lexer": "ipython3",
   "version": "3.8.8"
  }
 },
 "nbformat": 4,
 "nbformat_minor": 5
}
